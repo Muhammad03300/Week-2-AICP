{
 "cells": [
  {
   "cell_type": "code",
   "execution_count": 3,
   "id": "ae2d0da3-aea2-43df-ac68-cdc60b79a5b4",
   "metadata": {},
   "outputs": [
    {
     "name": "stdout",
     "output_type": "stream",
     "text": [
      "a    1\n",
      "x    4\n",
      "c    9\n",
      "2    6\n",
      "e    7\n",
      "dtype: int64\n"
     ]
    }
   ],
   "source": [
    "# Name: Abubakar\n",
    "# Task 1 \n",
    "import pandas as pd\n",
    "\n",
    "# Creating a dictionary\n",
    "data = {'a': 1, 'x': 4, 'c': 9, 2: 6, 'e': 7}\n",
    "\n",
    "# Creating a pandas Series from the dictionary\n",
    "df = pd.Series(data)\n",
    "\n",
    "# Printing the DataFrame\n",
    "print(df)"
   ]
  },
  {
   "cell_type": "code",
   "execution_count": 4,
   "id": "ab1a6f2a-56d3-426f-aacf-7bb0ea0c6b70",
   "metadata": {},
   "outputs": [
    {
     "name": "stdout",
     "output_type": "stream",
     "text": [
      "Bilal     42\n",
      "Ayesha    38\n",
      "Hadia     39\n",
      "dtype: int64\n"
     ]
    }
   ],
   "source": [
    "# Name: Abubakar\n",
    "# Task 2 \n",
    "import pandas as pd\n",
    "\n",
    "# Creating a dictionary\n",
    "data = {'Bilal': 42, 'Ayesha': 38, 'Hadia': 39}\n",
    "\n",
    "# Creating a pandas Series from the dictionary\n",
    "df = pd.Series(data)\n",
    "\n",
    "# Printing the DataFrame\n",
    "print(df)"
   ]
  },
  {
   "cell_type": "code",
   "execution_count": 7,
   "id": "711a6817-8a87-407c-9526-f34380a66afe",
   "metadata": {},
   "outputs": [
    {
     "name": "stdout",
     "output_type": "stream",
     "text": [
      "        day  temperature  windspeed  event\n",
      "0  1/1/2017           32          6   Rain\n",
      "1  1/2/2017           35          7  Sunny\n",
      "2  1/3/2017           28          2   Snow\n",
      "3  1/4/2017           24          7   Snow\n",
      "4  1/5/2017           32          4   Rain\n",
      "5  1/6/2017           31          2  Sunny\n"
     ]
    }
   ],
   "source": [
    "#Name : Abubakar \n",
    "# Task : 3\n",
    "import pandas as pd\n",
    "\n",
    "# Creating a dictionary\n",
    "data = {'day': ['1/1/2017', '1/2/2017', '1/3/2017', '1/4/2017', '1/5/2017', '1/6/2017'],\n",
    "        'temperature': [32, 35, 28, 24, 32, 31],\n",
    "        'windspeed': [6, 7, 2, 7, 4, 2],\n",
    "        'event': ['Rain', 'Sunny', 'Snow', 'Snow', 'Rain', 'Sunny']}\n",
    "\n",
    "# Creating a DataFrame\n",
    "df = pd.DataFrame(data)\n",
    "\n",
    "# Printing the DataFrame\n",
    "print(df)\n"
   ]
  },
  {
   "cell_type": "code",
   "execution_count": 8,
   "id": "93f2074c-bdf1-4d21-9b4a-37a61d1d6dc2",
   "metadata": {},
   "outputs": [
    {
     "name": "stdout",
     "output_type": "stream",
     "text": [
      "        day  temperature  windspeed  event\n",
      "a  1/1/2017           32          6   Rain\n",
      "b  1/2/2017           35          7  Sunny\n",
      "c  1/3/2017           28          2   Snow\n",
      "d  1/4/2017           24          7   Snow\n",
      "e  1/5/2017           32          4   Rain\n",
      "f  1/6/2017           31          2  Sunny\n"
     ]
    }
   ],
   "source": [
    "# Name: Abubakar\n",
    "# Task : 4\n",
    "import pandas as pd\n",
    "\n",
    "# Creating a dictionary\n",
    "data = {'day': ['1/1/2017', '1/2/2017', '1/3/2017', '1/4/2017', '1/5/2017', '1/6/2017'],\n",
    "        'temperature': [32, 35, 28, 24, 32, 31],\n",
    "        'windspeed': [6, 7, 2, 7, 4, 2],\n",
    "        'event': ['Rain', 'Sunny', 'Snow', 'Snow', 'Rain', 'Sunny']}\n",
    "\n",
    "# Creating a DataFrame\n",
    "df = pd.DataFrame(data)\n",
    "\n",
    "# Replacing the index\n",
    "df.index = ['a', 'b', 'c', 'd', 'e', 'f']\n",
    "\n",
    "# Printing the DataFrame\n",
    "print(df)"
   ]
  },
  {
   "cell_type": "code",
   "execution_count": 9,
   "id": "47fc6026-48de-4d28-afdf-7a108d1b5258",
   "metadata": {},
   "outputs": [
    {
     "name": "stdout",
     "output_type": "stream",
     "text": [
      "        day  temperature  windspeed  event\n",
      "a  1/1/2017           32          6   Rain\n",
      "b  1/2/2017           35          7  Sunny\n",
      "c  1/3/2017           28          2   Snow\n",
      "d  1/4/2017           24          7   Snow\n",
      "e  1/5/2017           32          4   Rain\n",
      "f  1/6/2017           31          2  Sunny\n",
      "Mean Temperature: 30.333333333333332\n",
      "Maximum Temperature: 35\n",
      "Minimum Temperature: 24\n"
     ]
    }
   ],
   "source": [
    "# Name : Abubakar\n",
    "# Task : 5\n",
    "import pandas as pd\n",
    "\n",
    "# Creating a dictionary\n",
    "data = {'day': ['1/1/2017', '1/2/2017', '1/3/2017', '1/4/2017', '1/5/2017', '1/6/2017'],\n",
    "        'temperature': [32, 35, 28, 24, 32, 31],\n",
    "        'windspeed': [6, 7, 2, 7, 4, 2],\n",
    "        'event': ['Rain', 'Sunny', 'Snow', 'Snow', 'Rain', 'Sunny']}\n",
    "\n",
    "# Creating a DataFrame\n",
    "df = pd.DataFrame(data)\n",
    "\n",
    "# Replacing the index\n",
    "df.index = ['a', 'b', 'c', 'd', 'e', 'f']\n",
    "\n",
    "# Printing the DataFrame\n",
    "print(df)\n",
    "\n",
    "# Calculating mean, maximum, and minimum for the label \"temperature\"\n",
    "temperature_mean = df['temperature'].mean()\n",
    "temperature_max = df['temperature'].max()\n",
    "temperature_min = df['temperature'].min()\n",
    "\n",
    "print(\"Mean Temperature:\", temperature_mean)\n",
    "print(\"Maximum Temperature:\", temperature_max)\n",
    "print(\"Minimum Temperature:\", temperature_min)\n"
   ]
  },
  {
   "cell_type": "code",
   "execution_count": 15,
   "id": "fed864b0-deb3-4887-8871-fd3c9e6c6142",
   "metadata": {},
   "outputs": [
    {
     "name": "stdout",
     "output_type": "stream",
     "text": [
      "CSV 'NewPeople.csv' exported successfully.\n"
     ]
    }
   ],
   "source": [
    "# Name: Abubakar\n",
    "# Task : 6\n",
    "#import pandas as pd\n",
    "\n",
    "# Define file path\n",
    "file_path = 'people.csv'\n",
    "\n",
    "# Specify columns to be imported\n",
    "columns_to_import = [\"First Name\", \"Sex\", \"Email\", \"Phone\", \"Job Title\"]\n",
    "\n",
    "# Specify columns to be set as index\n",
    "index_columns = [\"Sex\", \"Job Title\"]\n",
    "\n",
    "# Skip rows 1 and 5\n",
    "skip_rows = [1, 5]\n",
    "\n",
    "# Import CSV with specified parameters\n",
    "df = pd.read_csv(file_path, usecols=columns_to_import, skiprows=skip_rows)\n",
    "\n",
    "# Set index columns\n",
    "df.set_index(index_columns, inplace=True)\n",
    "\n",
    "# Export DataFrame to CSV\n",
    "df.to_csv('NewPeople.csv')\n",
    "\n",
    "print(\"CSV 'NewPeople.csv' exported successfully.\")\n",
    "\n"
   ]
  },
  {
   "cell_type": "code",
   "execution_count": 16,
   "id": "7cccc591-456a-40a2-ae12-81954f5ce290",
   "metadata": {},
   "outputs": [
    {
     "name": "stdout",
     "output_type": "stream",
     "text": [
      "New sheet 'NewSheet' added to 'SampleWork.xlsx' with modified data.\n"
     ]
    }
   ],
   "source": [
    "# Name : Abubakar\n",
    "# Task : 7\n",
    "import pandas as pd\n",
    "\n",
    "# Define file path\n",
    "file_path = 'SampleWork.xlsx'\n",
    "\n",
    "# Import Excel sheet 1, skipping row 2, and specifying columns to import\n",
    "df = pd.read_excel(file_path, sheet_name=0, skiprows=[1], usecols=[0, -1])\n",
    "\n",
    "# Set row 2 as header\n",
    "df.columns = df.iloc[0]\n",
    "df = df[1:]\n",
    "\n",
    "# Export DataFrame to a new sheet in the same Excel file\n",
    "with pd.ExcelWriter(file_path, engine='openpyxl', mode='a') as writer:\n",
    "    df.to_excel(writer, sheet_name='NewSheet', index=False)\n",
    "\n",
    "print(\"New sheet 'NewSheet' added to 'SampleWork.xlsx' with modified data.\")\n"
   ]
  },
  {
   "cell_type": "code",
   "execution_count": 18,
   "id": "e5330ea5-132c-4601-965d-0a0339834250",
   "metadata": {},
   "outputs": [
    {
     "name": "stdout",
     "output_type": "stream",
     "text": [
      "DataFrame AICP_DF:\n",
      "       Age Qualification  Height\n",
      "Name                            \n",
      "Ali     25           BSc     5.1\n",
      "Hifza   30           MSc     6.2\n",
      "Ahmed   35           BSc     5.2\n",
      "Aisha   28           MSc     5.1\n",
      "\n",
      "DataFrame df1:\n",
      "    Name Qualification\n",
      "0    Ali           BSc\n",
      "1  Hifza           MSc\n",
      "2  Bilal           PhD\n",
      "3  Ahmed           BSc\n",
      "4  Aisha           MSc\n",
      "\n",
      "Row with index 'Hifza':\n",
      "Age               30\n",
      "Qualification    MSc\n",
      "Height           6.2\n",
      "Name: Hifza, dtype: object\n",
      "\n",
      "Row with index 3:\n",
      "Age               27\n",
      "Qualification    PhD\n",
      "Height           5.1\n",
      "Name: Bilal, dtype: object\n"
     ]
    }
   ],
   "source": [
    "# Name: Abubakar\n",
    "# Task : 8\n",
    "import pandas as pd\n",
    "\n",
    "# Creating the DataFrame\n",
    "data = {'Name': ['Ali', 'Hifza', 'Bilal', 'Ahmed', 'Aisha'],\n",
    "        'Age': [25, 30, 27, 35, 28],\n",
    "        'Qualification': ['BSc', 'MSc', 'PhD', 'BSc', 'MSc']}\n",
    "\n",
    "AICP_DF = pd.DataFrame(data)\n",
    "\n",
    "# Selecting 'Name' and 'Qualification' columns and saving to df1\n",
    "df1 = AICP_DF[['Name', 'Qualification']]\n",
    "\n",
    "# Adding a new column \"Height\" with the specified values\n",
    "AICP_DF['Height'] = [5.1, 6.2, 5.1, 5.2, 5.1]\n",
    "\n",
    "# Setting column \"Name\" as the index column\n",
    "AICP_DF.set_index('Name', inplace=True)\n",
    "\n",
    "# Retrieving the row with index \"Hifza\"\n",
    "row_hifza = AICP_DF.loc['Hifza']\n",
    "\n",
    "# Retrieving the row with index 3\n",
    "row_index_3 = AICP_DF.iloc[2]\n",
    "\n",
    "# Dropping the row with index \"Bilal\"\n",
    "AICP_DF.drop('Bilal', inplace=True)\n",
    "\n",
    "print(\"DataFrame AICP_DF:\")\n",
    "print(AICP_DF)\n",
    "print(\"\\nDataFrame df1:\")\n",
    "print(df1)\n",
    "print(\"\\nRow with index 'Hifza':\")\n",
    "print(row_hifza)\n",
    "print(\"\\nRow with index 3:\")\n",
    "print(row_index_3)\n"
   ]
  }
 ],
 "metadata": {
  "kernelspec": {
   "display_name": "Python 3 (ipykernel)",
   "language": "python",
   "name": "python3"
  },
  "language_info": {
   "codemirror_mode": {
    "name": "ipython",
    "version": 3
   },
   "file_extension": ".py",
   "mimetype": "text/x-python",
   "name": "python",
   "nbconvert_exporter": "python",
   "pygments_lexer": "ipython3",
   "version": "3.11.5"
  }
 },
 "nbformat": 4,
 "nbformat_minor": 5
}
